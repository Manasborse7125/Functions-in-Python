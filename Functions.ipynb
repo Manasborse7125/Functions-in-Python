{
 "cells": [
  {
   "cell_type": "markdown",
   "id": "5db85724-fb73-4cb6-a479-bfc031ebc6a7",
   "metadata": {},
   "source": [
    "# Functions in Python."
   ]
  },
  {
   "cell_type": "code",
   "execution_count": 9,
   "id": "689eb17d-102c-43a2-afbe-5b319a8841c6",
   "metadata": {},
   "outputs": [
    {
     "name": "stdout",
     "output_type": "stream",
     "text": [
      "Your First Name is :  Manas\n",
      "Your Last Name is :  Borse\n",
      "Your Full Name is  Manas Borse\n",
      "Person 2\n",
      "Your First Name is :  Virat\n",
      "Your Last Name is :  Kohli\n",
      "Your Full Name is  Virat Kohli\n"
     ]
    }
   ],
   "source": [
    "def fname(name1):\n",
    "    print(\"Your First Name is : \",name1)\n",
    "def lname(name2):\n",
    "    print(\"Your Last Name is : \",name2)\n",
    "def fullname():\n",
    "    print(\"Your Full Name is \",name1,name2)\n",
    "name1=\"Manas\"\n",
    "name2=\"Borse\"\n",
    "fname(name1)\n",
    "lname(name2)\n",
    "fullname()\n",
    "print(\"Person 2\")\n",
    "name1=\"Virat\"\n",
    "name2=\"Kohli\"\n",
    "fname(name1)\n",
    "lname(name2)\n",
    "fullname()"
   ]
  },
  {
   "cell_type": "code",
   "execution_count": 1,
   "id": "5d56d049-3d07-4f2e-83be-71eac12b252d",
   "metadata": {},
   "outputs": [
    {
     "name": "stdin",
     "output_type": "stream",
     "text": [
      "Enter Number of Student to be Stored 2\n",
      "Enter First Name of  Manas\n",
      "Enter Last Name : Borse\n"
     ]
    },
    {
     "name": "stdout",
     "output_type": "stream",
     "text": [
      "Your First Name is :  Manas\n",
      "Your Last Name is :  Borse\n",
      "Your Full Name is  Manas Borse\n"
     ]
    },
    {
     "name": "stdin",
     "output_type": "stream",
     "text": [
      "Enter First Name of  Virat \n",
      "Enter Last Name : Kohli\n"
     ]
    },
    {
     "name": "stdout",
     "output_type": "stream",
     "text": [
      "Your First Name is :  Virat \n",
      "Your Last Name is :  Kohli\n",
      "Your Full Name is  Virat  Kohli\n"
     ]
    }
   ],
   "source": [
    "def fname(name1):\n",
    "    print(\"Your First Name is : \",name1)\n",
    "def lname(name2):\n",
    "    print(\"Your Last Name is : \",name2)\n",
    "def fullname():\n",
    "    print(\"Your Full Name is \",name1,name2) \n",
    "a=int(input(\"Enter Number of Student to be Stored\"))\n",
    "for i in range(0,a):\n",
    "    name1=input(\"Enter First Name of \")\n",
    "    name2=input(\"Enter Last Name :\")\n",
    "    fname(name1)\n",
    "    lname(name2)\n",
    "    fullname() "
   ]
  },
  {
   "cell_type": "code",
   "execution_count": 11,
   "id": "ea578582-d19f-49b3-995a-e804c2c05167",
   "metadata": {},
   "outputs": [
    {
     "name": "stdin",
     "output_type": "stream",
     "text": [
      "Enter number to be checked :  2467\n"
     ]
    },
    {
     "name": "stdout",
     "output_type": "stream",
     "text": [
      "Number is odd \n"
     ]
    }
   ],
   "source": [
    "#even odd check\n",
    "def check(a):\n",
    "    if(a%2==0):\n",
    "        print(\"Number is even \")\n",
    "    else:\n",
    "        print(\"Number is odd \")\n",
    "    \n",
    "a=int(input(\"Enter number to be checked : \"))\n",
    "y=check(a)"
   ]
  },
  {
   "cell_type": "code",
   "execution_count": 7,
   "id": "bbf13eff-ef37-4b47-b7c9-b238840cb964",
   "metadata": {},
   "outputs": [
    {
     "name": "stdin",
     "output_type": "stream",
     "text": [
      "Enter Factorial to be check : 5\n"
     ]
    },
    {
     "name": "stdout",
     "output_type": "stream",
     "text": [
      "Fact is :  120\n"
     ]
    }
   ],
   "source": [
    "#factorial using functions \n",
    "def fact(a):\n",
    "    prod=1\n",
    "    while(a>=1):\n",
    "        prod=prod*a\n",
    "        a=a-1\n",
    "    print(\"Fact is : \",prod)\n",
    "a=int(input(\"Enter Factorial to be check :\"))\n",
    "fact(a)"
   ]
  },
  {
   "cell_type": "code",
   "execution_count": 11,
   "id": "ea1b000a-f808-4757-a403-171a0fb6ff4f",
   "metadata": {},
   "outputs": [
    {
     "name": "stdin",
     "output_type": "stream",
     "text": [
      "Enter a :  25\n",
      "Enter b :  10\n"
     ]
    },
    {
     "name": "stdout",
     "output_type": "stream",
     "text": [
      "Sum is :  35\n",
      "Difference is :  15\n"
     ]
    }
   ],
   "source": [
    "#returning two values from functions \n",
    "def sum_sub(a,b):\n",
    "    c=a+b\n",
    "    d=a-b\n",
    "    return c,d\n",
    "    \n",
    "a=int(input(\"Enter a : \"))\n",
    "b=int(input(\"Enter b : \"))\n",
    "x,y=sum_sub(a,b)\n",
    "print(\"Sum is : \",x)\n",
    "print(\"Difference is : \",y)"
   ]
  },
  {
   "cell_type": "code",
   "execution_count": 12,
   "id": "245bb3e4-beba-42cd-9d4f-0721028b5d1d",
   "metadata": {},
   "outputs": [
    {
     "name": "stdin",
     "output_type": "stream",
     "text": [
      "Enter a :  25\n",
      "Enter b :  10\n"
     ]
    },
    {
     "name": "stdout",
     "output_type": "stream",
     "text": [
      "Sum is :  35\n",
      "Difference is :  15\n"
     ]
    }
   ],
   "source": [
    "#returning two values from 2 different functions \n",
    "def sum_sub(a,b):\n",
    "    c=a+b\n",
    "    d=a-b\n",
    "    return c,d\n",
    "def dikhao(x,y):\n",
    "    print(\"Sum is : \",x)\n",
    "    print(\"Difference is : \",y)\n",
    "a=int(input(\"Enter a : \"))\n",
    "b=int(input(\"Enter b : \"))\n",
    "x,y=sum_sub(a,b)\n",
    "dikhao(x,y)"
   ]
  },
  {
   "cell_type": "code",
   "execution_count": 15,
   "id": "7ad76752-356f-41b1-be96-ae43b3fdc99a",
   "metadata": {},
   "outputs": [
    {
     "name": "stdin",
     "output_type": "stream",
     "text": [
      "Enter Your Name :  Manas \n"
     ]
    },
    {
     "name": "stdout",
     "output_type": "stream",
     "text": [
      "How are you Manas  ?\n"
     ]
    }
   ],
   "source": [
    "#Displaying Greeting Message .\n",
    "def greet(a):\n",
    "    print(\"How are you\",a,\"?\")\n",
    "a=input(\"Enter Your Name : \")\n",
    "greet(a)"
   ]
  },
  {
   "cell_type": "code",
   "execution_count": 17,
   "id": "7d5c856a-d210-43de-b2fa-d3836904251f",
   "metadata": {},
   "outputs": [
    {
     "name": "stdin",
     "output_type": "stream",
     "text": [
      " Your Name ?  Manas\n"
     ]
    },
    {
     "name": "stdout",
     "output_type": "stream",
     "text": [
      "How r u ?Manas\n"
     ]
    }
   ],
   "source": [
    "# two Functions in one\n",
    "def lap(extra):\n",
    "    def top():\n",
    "        return 'How r u ?'\n",
    "    result=top()+extra\n",
    "    print(result)\n",
    "extra=input(\" Your Name ? \")\n",
    "lap(extra)"
   ]
  },
  {
   "cell_type": "code",
   "execution_count": null,
   "id": "5d42c580-3c7e-433b-935f-86e365ff8f9b",
   "metadata": {},
   "outputs": [],
   "source": []
  }
 ],
 "metadata": {
  "kernelspec": {
   "display_name": "Python 3 (ipykernel)",
   "language": "python",
   "name": "python3"
  },
  "language_info": {
   "codemirror_mode": {
    "name": "ipython",
    "version": 3
   },
   "file_extension": ".py",
   "mimetype": "text/x-python",
   "name": "python",
   "nbconvert_exporter": "python",
   "pygments_lexer": "ipython3",
   "version": "3.12.4"
  }
 },
 "nbformat": 4,
 "nbformat_minor": 5
}
